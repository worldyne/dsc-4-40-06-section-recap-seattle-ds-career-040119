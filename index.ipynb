{
 "cells": [
  {
   "cell_type": "markdown",
   "metadata": {},
   "source": [
    "# Section Recap"
   ]
  },
  {
   "cell_type": "markdown",
   "metadata": {},
   "source": [
    "## Introduction\n",
    "\n",
    "This short lesson summarizes key takeaways from section 40"
   ]
  },
  {
   "cell_type": "markdown",
   "metadata": {},
   "source": [
    "## Objectives\n",
    "You will be able to:\n",
    "* Understand and explain what was covered in this section\n",
    "* Understand and explain why this section will help you become a data scientist"
   ]
  },
  {
   "cell_type": "markdown",
   "metadata": {},
   "source": [
    "## Key Takeaways\n",
    "\n",
    "The key takeaways from this section include:\n",
    "\n",
    "* Neural networks are powerful models that can be customized and tweaked using various amounts of nodes, layers,...\n",
    "* The most basic neural networks are single-layer densely connected neural networks, which have very similar properties as logistic regression models\n",
    "* Compared to more tradistional statistics and ML techniques, neural networks perform particulary well when using unstructured data\n",
    "* Apart from densely connected networks, otyher types of neural networks include convolutional neural networks, recurrent neural networks, and generative adversarial neural networks.\n",
    "* When working with image data, it's important to understand how image data is stored when working with them in Python\n",
    "* Logistic regression can be seen as a single-layer neural network with a sigmoid activation function\n",
    "* Neural networks use loss and cost functions to minimize the \"loss\", which is some sort of function that summarizes the difference between the actual outcome (eg. pictures contain santa or not) and the model prediction (whether the model correctly identifies pictures with santas)\n",
    "* Backward and forward propagation are used to estimate the so-called \"model weights\"\n",
    "* Adding more layers to neural networks can substantially increase model performance\n",
    "* Several activations can be used in model nodes, you can explore with different types and evaluate how it affects performance"
   ]
  }
 ],
 "metadata": {
  "kernelspec": {
   "display_name": "Python 3",
   "language": "python",
   "name": "python3"
  },
  "language_info": {
   "codemirror_mode": {
    "name": "ipython",
    "version": 3
   },
   "file_extension": ".py",
   "mimetype": "text/x-python",
   "name": "python",
   "nbconvert_exporter": "python",
   "pygments_lexer": "ipython3",
   "version": "3.6.6"
  }
 },
 "nbformat": 4,
 "nbformat_minor": 2
}
